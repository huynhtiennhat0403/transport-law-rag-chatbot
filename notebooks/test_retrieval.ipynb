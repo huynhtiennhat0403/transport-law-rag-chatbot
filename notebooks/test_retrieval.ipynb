{
 "cells": [
  {
   "cell_type": "code",
   "execution_count": 1,
   "id": "e5de7a3f",
   "metadata": {},
   "outputs": [],
   "source": [
    "import chromadb\n",
    "from sentence_transformers import SentenceTransformer"
   ]
  },
  {
   "cell_type": "code",
   "execution_count": 2,
   "id": "3bed5d17",
   "metadata": {},
   "outputs": [],
   "source": [
    "# Load ChromaDB\n",
    "client = chromadb.PersistentClient(path=\"../data/law_chroma_db\")\n",
    "collection = client.get_collection(\"law_traffic_vietnam\")"
   ]
  },
  {
   "cell_type": "code",
   "execution_count": null,
   "id": "0edc31de",
   "metadata": {},
   "outputs": [],
   "source": [
    "model = SentenceTransformer('BAAI/bge-m3')"
   ]
  },
  {
   "cell_type": "code",
   "execution_count": null,
   "id": "7207e70c",
   "metadata": {},
   "outputs": [],
   "source": [
    "# Query\n",
    "query = \"Điều kiện lái xe ô tô?\"\n",
    "query_embedding = model.encode(query, normalize_embeddings=True)\n",
    "results = collection.query(\n",
    "    query_embeddings=[query_embedding.tolist()],\n",
    "    n_results=5\n",
    ")\n",
    "\n",
    "# Xem kết quả\n",
    "for doc, metadata in zip(results['documents'][0], results['metadatas'][0]):\n",
    "    print(f\"{metadata['full_reference']}: {doc}\")"
   ]
  }
 ],
 "metadata": {
  "kernelspec": {
   "display_name": "Python 3",
   "language": "python",
   "name": "python3"
  },
  "language_info": {
   "codemirror_mode": {
    "name": "ipython",
    "version": 3
   },
   "file_extension": ".py",
   "mimetype": "text/x-python",
   "name": "python",
   "nbconvert_exporter": "python",
   "pygments_lexer": "ipython3",
   "version": "3.13.7"
  }
 },
 "nbformat": 4,
 "nbformat_minor": 5
}
